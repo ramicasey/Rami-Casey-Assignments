{
 "cells": [
  {
   "cell_type": "code",
   "execution_count": 8,
   "metadata": {},
   "outputs": [
    {
     "name": "stdout",
     "output_type": "stream",
     "text": [
      "Rectangle 1 has a length of 4, and a width of 5\n",
      "Its area is 20 and its perimeter is 18\n",
      "Rectangle 2 has a length of 7, and a width of 3\n",
      "Its area is 21 and its perimeter is 20\n"
     ]
    }
   ],
   "source": [
    "#EXERCISE 1\n",
    "class Rectangle:\n",
    "    def __init__(self, length, width):\n",
    "        self.length = length\n",
    "        self.width = width\n",
    "    def area(self):\n",
    "        return self.length * self.width\n",
    "    def perimeter(self):\n",
    "        return 2 * (self.length + self.width)\n",
    "\n",
    "rectangle1 = Rectangle(4, 5)\n",
    "rectangle2 = Rectangle(7, 3)\n",
    "\n",
    "#USAGE\n",
    "print(f\"Rectangle 1 has a length of {rectangle1.length}, and a width of {rectangle1.width}\")\n",
    "print(f\"Its area is {rectangle1.area()} and its perimeter is {rectangle1.perimeter()}\")\n",
    "\n",
    "print(f\"Rectangle 2 has a length of {rectangle2.length}, and a width of {rectangle2.width}\")\n",
    "print(f\"Its area is {rectangle2.area()} and its perimeter is {rectangle2.perimeter()}\")\n"
   ]
  },
  {
   "cell_type": "code",
   "execution_count": 12,
   "metadata": {},
   "outputs": [
    {
     "name": "stdout",
     "output_type": "stream",
     "text": [
      "Original Name: Alice\n",
      "Original Age: 30\n",
      "New Name: Bob\n",
      "New Age: 35\n"
     ]
    }
   ],
   "source": [
    "#EXERCISE 2\n",
    "class Person:\n",
    "    def __init__(self, name, age):\n",
    "        self.__name = name\n",
    "        self.__age = age\n",
    "    def get_name(self):\n",
    "        return self.__name\n",
    "    def set_name(self, name):\n",
    "        self.__name = name\n",
    "    def get_age(self):\n",
    "        return self.__age\n",
    "    def set_age(self, age):\n",
    "        if age > 0:  \n",
    "            self.__age = age\n",
    "        else:\n",
    "            print(\"Age must be a positive number.\")\n",
    "\n",
    "#USAGE\n",
    "person = Person(\"Alice\", 30)\n",
    "\n",
    "print(\"Original Name:\", person.get_name())\n",
    "print(\"Original Age:\", person.get_age())\n",
    "\n",
    "person.set_name(\"Bob\")\n",
    "person.set_age(35)\n",
    "\n",
    "print(\"New Name:\", person.get_name())\n",
    "print(\"New Age:\", person.get_age())"
   ]
  },
  {
   "cell_type": "code",
   "execution_count": 17,
   "metadata": {},
   "outputs": [
    {
     "name": "stdout",
     "output_type": "stream",
     "text": [
      "Peugeot 508\n",
      "Suzuki GSX\n"
     ]
    }
   ],
   "source": [
    "#Exercise 3 from OOP exercise sheet\n",
    "class Vehicle: \n",
    "    def __init__(self, make, model):\n",
    "        self.__make = make\n",
    "        self.__model = model\n",
    "    def get_make(self):\n",
    "        return self.__make\n",
    "    def get_model(self):\n",
    "        return self.__model\n",
    "    def set_make(self, make):\n",
    "        self.__make = make\n",
    "    def set_model(self,model):\n",
    "        self.__model = model  \n",
    "class Motorcycle(Vehicle):\n",
    "    def __init__(self, make , model):\n",
    "        super(). __init__(make, model) \n",
    "class Car(Vehicle):\n",
    "    def __init__(self, make , model):\n",
    "        super(). __init__(make, model)\n",
    "#USAGE\n",
    "car = Car(\"Peugeot\", \"508\")\n",
    "bike = Motorcycle(\"Suzuki\", \"GSX\")\n",
    "# Accessing attributes and methods\n",
    "print(car.get_make(), car.get_model())\n",
    "print(bike.get_make(), bike.get_model())"
   ]
  },
  {
   "cell_type": "code",
   "execution_count": 16,
   "metadata": {},
   "outputs": [
    {
     "name": "stdout",
     "output_type": "stream",
     "text": [
      "Library 'City Library' has the following books:\n",
      "- '1984' by George Orwell\n",
      "- 'To Kill a Mockingbird' by Harper Lee\n",
      "- 'The Great Gatsby' by F. Scott Fitzgerald\n"
     ]
    }
   ],
   "source": [
    "#Exercise 4\n",
    "class Library:\n",
    "    def __init__(self, name):\n",
    "        self.name = name\n",
    "        self.collection = [] \n",
    "    def add_book(self, book):\n",
    "        self.collection.append(book)  \n",
    "    def list_books(self):\n",
    "        print(f\"Library '{self.name}' has the following books:\")\n",
    "        for book in self.collection:\n",
    "            print(f\"- '{book.title}' by {book.author}\")\n",
    "\n",
    "class Book:\n",
    "    def __init__(self, title, author):\n",
    "        self.title = title  \n",
    "        self.author = author  \n",
    "# USAGE\n",
    "library = Library(\"City Library\")\n",
    "\n",
    "book1 = Book(\"1984\", \"George Orwell\")\n",
    "book2 = Book(\"To Kill a Mockingbird\", \"Harper Lee\")\n",
    "book3 = Book(\"The Great Gatsby\", \"F. Scott Fitzgerald\")\n",
    "\n",
    "library.add_book(book1)\n",
    "library.add_book(book2)\n",
    "library.add_book(book3)\n",
    "\n",
    "library.list_books()"
   ]
  },
  {
   "cell_type": "code",
   "execution_count": 15,
   "metadata": {},
   "outputs": [
    {
     "name": "stdout",
     "output_type": "stream",
     "text": [
      "Duke has the departments Math with ['Rami', 'Zied'] and Computer Science with ['Martine']\n"
     ]
    }
   ],
   "source": [
    "#Exercise 5 My answer: this is aggregation not composition. For it to be composition, do class departments first then uni\n",
    "class University:\n",
    "    def __init__(self, name):\n",
    "        self.name = name\n",
    "        self.departments = []  \n",
    "    def add_department(self, department):\n",
    "        self.departments.append(department)  \n",
    "class Departments:\n",
    "    def __init__(self, name):\n",
    "        self.name = name\n",
    "        self.students = []  \n",
    "    def get_student_names(self):\n",
    "        num_students = int(input(f\"Enter the number of students in {self.name} department: \"))\n",
    "        for i in range(num_students):\n",
    "            student_name = input(f\"Enter the name of student {i + 1}: \")\n",
    "            self.students.append(student_name)\n",
    "#USAGE \n",
    "university1 = University(\"Duke\")\n",
    "department1 = Departments(\"Math\")\n",
    "department2 = Departments(\"Computer Science\")\n",
    "department1.get_student_names() \n",
    "department2.get_student_names()  \n",
    "university1.add_department(department1)\n",
    "university1.add_department(department2)\n",
    "print(f\"{university1.name} has the departments {department1.name} with {department1.students} and {department2.name} with {department2.students}\")"
   ]
  },
  {
   "cell_type": "code",
   "execution_count": null,
   "metadata": {},
   "outputs": [],
   "source": [
    "#EXERCISE 5 COMPOSITION VERSION\n",
    "class Departments:\n",
    "    def __init__(self, name):\n",
    "        self.name = name\n",
    "        self.students = []  \n",
    "    def get_student_names(self):\n",
    "        num_students = int(input(f\"Enter the number of students in {self.name} department: \"))\n",
    "        for i in range(num_students):\n",
    "            student_name = input(f\"Enter the name of student {i + 1}: \")\n",
    "            self.students.append(student_name)\n",
    "\n",
    "class University:\n",
    "    def __init__(self, name):\n",
    "        self.name = name\n",
    "        self.departments = []\n",
    "    def add_department(self, department_name):\n",
    "        department = Departments(department_name)\n",
    "        department.get_student_names()  \n",
    "        self.departments.append(department)\n",
    "    def display_departments(self):\n",
    "        for department in self.departments:\n",
    "            print(f\"{self.name} has the department {department.name} with students: {department.students}\")\n",
    "# USAGE\n",
    "university1 = University(\"Duke\")\n",
    "university1.add_department(\"Math\")\n",
    "university1.add_department(\"Computer Science\")\n",
    "university1.display_departments()\n"
   ]
  },
  {
   "cell_type": "code",
   "execution_count": 14,
   "metadata": {},
   "outputs": [
    {
     "name": "stdout",
     "output_type": "stream",
     "text": [
      "Teacher Viktor has the following students:\n",
      "- Alice\n",
      "- Bob\n",
      "- Charlie\n"
     ]
    }
   ],
   "source": [
    "#Exercise 6\n",
    "class Teacher:\n",
    "    def __init__(self, name):\n",
    "        self.name = name\n",
    "        self.students = []  \n",
    "    def add_student(self, student):\n",
    "        self.students.append(student)  \n",
    "    def list_students(self):\n",
    "        print(f\"Teacher {self.name} has the following students:\")\n",
    "        for student in self.students:\n",
    "            print(f\"- {student.name}\")\n",
    "\n",
    "class Student:\n",
    "    def __init__(self, name):\n",
    "        self.name = name  # Student name\n",
    "\n",
    "# USAGE\n",
    "teacher = Teacher(\"Viktor\")\n",
    "\n",
    "student1 = Student(\"Alice\")\n",
    "student2 = Student(\"Bob\")\n",
    "student3 = Student(\"Charlie\")\n",
    "\n",
    "teacher.add_student(student1)\n",
    "teacher.add_student(student2)\n",
    "teacher.add_student(student3)\n",
    "\n",
    "teacher.list_students()"
   ]
  },
  {
   "cell_type": "code",
   "execution_count": 13,
   "metadata": {},
   "outputs": [
    {
     "name": "stdout",
     "output_type": "stream",
     "text": [
      "The area of the circle is: 78.54\n",
      "The area of the rectangle is: 24\n",
      "The area of the generic shape is: 0\n"
     ]
    }
   ],
   "source": [
    "#Exercise 7\n",
    "class Shape:\n",
    "    def area(self):\n",
    "        return 0 \n",
    "    \n",
    "class Circle(Shape):\n",
    "    def __init__(self, radius):\n",
    "        self.radius = radius\n",
    "    def area(self):\n",
    "        pi = 3.14159\n",
    "        return pi * (self.radius ** 2)  \n",
    "    \n",
    "class Rectangle(Shape):\n",
    "    def __init__(self, width, height):\n",
    "        self.width = width\n",
    "        self.height = height\n",
    "    def area(self):\n",
    "        return self.width * self.height\n",
    "#USAGE\n",
    "circle = Circle(5)  \n",
    "rectangle = Rectangle(4, 6)  \n",
    "generic_shape = Shape()\n",
    "print(f\"The area of the circle is: {circle.area():.2f}\")\n",
    "print(f\"The area of the rectangle is: {rectangle.area()}\")\n",
    "print(f\"The area of the generic shape is: {generic_shape.area()}\")"
   ]
  }
 ],
 "metadata": {
  "kernelspec": {
   "display_name": "Python 3",
   "language": "python",
   "name": "python3"
  },
  "language_info": {
   "codemirror_mode": {
    "name": "ipython",
    "version": 3
   },
   "file_extension": ".py",
   "mimetype": "text/x-python",
   "name": "python",
   "nbconvert_exporter": "python",
   "pygments_lexer": "ipython3",
   "version": "3.12.5"
  }
 },
 "nbformat": 4,
 "nbformat_minor": 2
}
