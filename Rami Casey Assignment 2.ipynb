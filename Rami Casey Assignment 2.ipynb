{
 "cells": [
  {
   "cell_type": "markdown",
   "metadata": {},
   "source": [
    "#### Question 1\n",
    "Write a Python function that reads two strings s1 and s2 and checks whether s2 is an Anagram of s1.<br>\n",
    "N.B. The code should not use loops."
   ]
  },
  {
   "cell_type": "code",
   "execution_count": 4,
   "metadata": {},
   "outputs": [
    {
     "name": "stdout",
     "output_type": "stream",
     "text": [
      "True\n"
     ]
    }
   ],
   "source": [
    "def is_anagram(s1, s2):\n",
    "#BEGIN SOLUTION\n",
    "    return sorted(s1.lower()) == sorted(s2.lower())\n",
    "#END SOLUTION\n",
    "print(is_anagram(\"Open\", \"Nope\"))"
   ]
  },
  {
   "cell_type": "markdown",
   "metadata": {},
   "source": [
    "#### Question 2\n",
    "Write a Python function that checks if two words given as input have the same pattern of characters or not.<br>\n",
    "Two strings have the same pattern of characters if:\n",
    "- They have the same length \n",
    "- If two chatracters in the first string are equal if and only if the characters in the corresponding positions in the second string are also equal\n",
    "\n",
    "N.B. You are allowed to use strings only. No lists, no tuples, no dictionaries"
   ]
  },
  {
   "cell_type": "code",
   "execution_count": 3,
   "metadata": {},
   "outputs": [
    {
     "name": "stdout",
     "output_type": "stream",
     "text": [
      "01030\n",
      "01030\n",
      "True\n"
     ]
    }
   ],
   "source": [
    "def same_pattern(s1, s2):\n",
    "#BEGIN SOLUTION\n",
    "    p1 = \"\"\n",
    "    p2 = \"\"\n",
    "    if len(s1) != len(s2):\n",
    "        return False\n",
    "    for c in s1:\n",
    "        p1 += str(s1.find(c))\n",
    "    for c in s2:\n",
    "        p2 += str(s2.find(c))\n",
    "    print(p1)\n",
    "    print(p2) #prints for debug\n",
    "    return p1 == p2\n",
    "#END SOLUTION\n",
    "# Example usage:\n",
    "s1 = \"xyxzx\"\n",
    "s2 = \"abaca\"\n",
    "print(same_pattern(s1, s2))\n"
   ]
  },
  {
   "cell_type": "markdown",
   "metadata": {},
   "source": [
    "#### Question 3\n",
    "Write a Python function that takes a list L of positive integer numbers as well as a positive integer S and finds the elements in L that sum to S.  <br>\n",
    "Hint. you can use a dictionary  "
   ]
  },
  {
   "cell_type": "code",
   "execution_count": 9,
   "metadata": {},
   "outputs": [
    {
     "name": "stdout",
     "output_type": "stream",
     "text": [
      "Here are the sublists that add up to 3: [[1, 2]]\n",
      "Here are the sublists that add up to 17: [[1, 4, 10, 2], [4, 11, 2]]\n"
     ]
    }
   ],
   "source": [
    "def sub_lists(L):\n",
    "    powerset = [[]]\n",
    "#BEGIN SOLUTION\n",
    "    for num in L:\n",
    "        powerset += [curr + [num] for curr in powerset] \n",
    "    return powerset\n",
    "\n",
    "\n",
    "#END SOLUTION\n",
    "    return powerset\n",
    "\n",
    "def find_sublist(L, S):\n",
    "#BEGIN SOLUTION\n",
    "    subsets = sub_lists(L)\n",
    "    result = []\n",
    "    for subset in subsets:\n",
    "        if sum(subset) == S:\n",
    "            result.append(subset)\n",
    "    \n",
    "    return result\n",
    "#END SOLUTION\n",
    "\n",
    "# Example Usage:\n",
    "l = [1, 4, 10, 11, 2]\n",
    "S = 3\n",
    "print(f\"Here are the sublists that add up to {S}: {find_sublist(l, S)}\")\n",
    "S = 17\n",
    "print(f\"Here are the sublists that add up to {S}: {find_sublist(l, S)}\")"
   ]
  },
  {
   "cell_type": "markdown",
   "metadata": {},
   "source": [
    "#### Question 4\n",
    "Given two lists of integers, find two numbers that add up to a given target."
   ]
  },
  {
   "cell_type": "code",
   "execution_count": 10,
   "metadata": {},
   "outputs": [
    {
     "name": "stdout",
     "output_type": "stream",
     "text": [
      "Numbers that add up to 9: (2, 7)\n"
     ]
    }
   ],
   "source": [
    "def find_two_numbers(L, S):\n",
    "    \n",
    "#BEGIN SOLUTION\n",
    "    seen = {}\n",
    "    for num in L:\n",
    "        complement = S - num\n",
    "        if complement in seen:\n",
    "            return (complement, num)\n",
    "        seen[num] = True\n",
    "    return None\n",
    "#END SOLUTION\n",
    "\n",
    "# Example usage:\n",
    "numbers = [2, 7, 11, 15]\n",
    "target_sum = 9\n",
    "\n",
    "result = find_two_numbers(numbers, target_sum)\n",
    "\n",
    "if result:\n",
    "    print(f\"Numbers that add up to {target_sum}: {result}\")\n",
    "else:\n",
    "    print(f\"No pair of numbers found that add up to {target_sum}.\")\n"
   ]
  },
  {
   "cell_type": "markdown",
   "metadata": {},
   "source": [
    "#### Question 5\n",
    "Write a function called insertion sort that implements the Insertion Sort algorithm.\n",
    "The algorithm builds the final sorted array one item at a time following these steps:\n",
    "- Start from the second element (index 1) in the array.\n",
    "- Compare the current element with its adjacent element to the left.\n",
    "    - If the current element is smaller than its adjacent element, swap them.\n",
    "    - Continue swapping until the current element is greater than or equal to the element on its left or until it reaches the beginning of the array.\n",
    "- Move to the next element in the array and repeat steps 2-3.\n",
    "- Continue this process until you reach the end of the array."
   ]
  },
  {
   "cell_type": "code",
   "execution_count": 5,
   "metadata": {},
   "outputs": [
    {
     "name": "stdout",
     "output_type": "stream",
     "text": [
      "Sorted List: [11, 12, 22, 25, 64]\n"
     ]
    }
   ],
   "source": [
    "def insertion_sort(list):\n",
    "#BEGIN SOLUTION\n",
    "    for i in range(1, len(list)):\n",
    "        key = list[i]  \n",
    "        j = i - 1\n",
    "        while j >= 0 and key < list[j]:\n",
    "            list[j + 1] = list[j]\n",
    "            j -= 1\n",
    "        list[j + 1] = key\n",
    "    return list\n",
    "#END SOLUTION\n",
    "\n",
    "# Example usage:\n",
    "unsorted_list = [64, 25, 12, 22, 11]\n",
    "sorted_list = insertion_sort(unsorted_list)\n",
    "print(\"Sorted List:\", sorted_list)"
   ]
  },
  {
   "cell_type": "markdown",
   "metadata": {},
   "source": [
    "#### Question 6\n",
    "Write a Python function that merges two sorted arrays L1 and L2. <br>\n",
    "N.B. Use the for loops only"
   ]
  },
  {
   "cell_type": "code",
   "execution_count": 27,
   "metadata": {},
   "outputs": [
    {
     "name": "stdout",
     "output_type": "stream",
     "text": [
      "[1, 2, 3, 5, 7]\n"
     ]
    }
   ],
   "source": [
    "def merge_lists(L1, L2):\n",
    "#BEGIN SOLUTION\n",
    "    merged_list = []\n",
    "    i, j = 0, 0  \n",
    "    for _ in range(len(L1) + len(L2)):  \n",
    "        if i >= len(L1):\n",
    "            merged_list.append(L2[j])\n",
    "            j += 1\n",
    "        elif j >= len(L2):\n",
    "            merged_list.append(L1[i])\n",
    "            i += 1\n",
    "        elif L1[i] < L2[j]:\n",
    "            merged_list.append(L1[i])\n",
    "            i += 1\n",
    "        else:\n",
    "            merged_list.append(L2[j])\n",
    "            j += 1\n",
    "    return merged_list\n",
    "#END SOLUTION\n",
    "\n",
    "# Usage Example:\n",
    "L1 = [1,2 ]\n",
    "L2 = [3, 5, 7]\n",
    "print(merge_lists(L1, L2))\n"
   ]
  },
  {
   "cell_type": "markdown",
   "metadata": {},
   "source": [
    "#### Question 7\n",
    "Given a sorted list L, write a function that removes the duplicates from L.<br>\n",
    "N.B. \n",
    "- Use while loops only\n",
    "- Do not create new lists, tuples or dictionaries\n"
   ]
  },
  {
   "cell_type": "code",
   "execution_count": 3,
   "metadata": {},
   "outputs": [
    {
     "name": "stdout",
     "output_type": "stream",
     "text": [
      "[1, 3, 5, 7, 8]\n"
     ]
    }
   ],
   "source": [
    "def remove_duplicates(L):\n",
    "#BEGIN SOLUTION\n",
    "    i = 1  \n",
    "    while i < len(L):\n",
    "        if L[i] == L[i - 1]:\n",
    "            L.pop(i)\n",
    "        else:\n",
    "            i += 1\n",
    "    return L\n",
    "#END SOLUTION\n",
    "# Usage example:\n",
    "L = [1, 3, 3, 5, 7, 8, 8, 8, 8]\n",
    "print(remove_duplicates(L))\n",
    "    \n"
   ]
  },
  {
   "cell_type": "markdown",
   "metadata": {},
   "source": [
    "#### Question 8\n",
    "Write a Python code that implements an efficient version of the Fibonacci. The new version is a recursive function that shall reduce the number of calculations by memorizing the previous steps using a dictionary.<br>\n",
    "Write also the \"simple\" Fibonacci function and compare the two variants for n = 100.\n"
   ]
  },
  {
   "cell_type": "code",
   "execution_count": 1,
   "metadata": {},
   "outputs": [
    {
     "ename": "IndentationError",
     "evalue": "expected an indented block after function definition on line 1 (3287705103.py, line 6)",
     "output_type": "error",
     "traceback": [
      "\u001b[1;36m  Cell \u001b[1;32mIn[1], line 6\u001b[1;36m\u001b[0m\n\u001b[1;33m    def regular_fib(n):\u001b[0m\n\u001b[1;37m    ^\u001b[0m\n\u001b[1;31mIndentationError\u001b[0m\u001b[1;31m:\u001b[0m expected an indented block after function definition on line 1\n"
     ]
    }
   ],
   "source": [
    "def fib_efficient(n, old_values):\n",
    "#BEGIN SOLUTION\n",
    "\n",
    "#END SOLUTION\n",
    "\n",
    "def regular_fib(n):\n",
    "#BEGIN SOLUTION\n",
    "    if n == 0:\n",
    "        return 0\n",
    "    elif n == 1:\n",
    "        return 1\n",
    "    return regular_fib(n - 1) + regular_fib(n - 2)\n",
    "\n",
    "#END SOLUTION\n",
    "# Usage example\n",
    "old = {}\n",
    "print(fib_efficient(100, old))\n",
    "print(regular_fib(100))\n",
    "\n"
   ]
  }
 ],
 "metadata": {
  "kernelspec": {
   "display_name": "Python 3",
   "language": "python",
   "name": "python3"
  },
  "language_info": {
   "codemirror_mode": {
    "name": "ipython",
    "version": 3
   },
   "file_extension": ".py",
   "mimetype": "text/x-python",
   "name": "python",
   "nbconvert_exporter": "python",
   "pygments_lexer": "ipython3",
   "version": "3.12.5"
  }
 },
 "nbformat": 4,
 "nbformat_minor": 2
}
